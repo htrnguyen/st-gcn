{
 "cells": [
  {
   "cell_type": "code",
   "execution_count": 1,
   "metadata": {},
   "outputs": [
    {
     "data": {
      "text/plain": [
       "'c:\\\\Users\\\\NGUYEN\\\\Desktop\\\\st-gcn-tam'"
      ]
     },
     "execution_count": 1,
     "metadata": {},
     "output_type": "execute_result"
    }
   ],
   "source": [
    "%pwd"
   ]
  },
  {
   "cell_type": "code",
   "execution_count": 3,
   "metadata": {},
   "outputs": [
    {
     "name": "stdout",
     "output_type": "stream",
     "text": [
      "c:\\Users\\NGUYEN\\Desktop\\st-gcn-tam\\torchlight\n",
      "running install\n",
      "running bdist_egg\n",
      "running egg_info\n",
      "creating torchlight.egg-info\n",
      "writing torchlight.egg-info\\PKG-INFO\n",
      "writing dependency_links to torchlight.egg-info\\dependency_links.txt\n",
      "writing top-level names to torchlight.egg-info\\top_level.txt\n",
      "writing manifest file 'torchlight.egg-info\\SOURCES.txt'\n",
      "reading manifest file 'torchlight.egg-info\\SOURCES.txt'\n",
      "writing manifest file 'torchlight.egg-info\\SOURCES.txt'\n",
      "installing library code to build\\bdist.win-amd64\\egg\n",
      "running install_lib\n",
      "running build_py\n",
      "creating build\\lib\\torchlight\n",
      "copying torchlight\\gpu.py -> build\\lib\\torchlight\n",
      "copying torchlight\\io.py -> build\\lib\\torchlight\n",
      "copying torchlight\\__init__.py -> build\\lib\\torchlight\n",
      "creating build\\bdist.win-amd64\\egg\n",
      "creating build\\bdist.win-amd64\\egg\\torchlight\n",
      "copying build\\lib\\torchlight\\gpu.py -> build\\bdist.win-amd64\\egg\\torchlight\n",
      "copying build\\lib\\torchlight\\io.py -> build\\bdist.win-amd64\\egg\\torchlight\n",
      "copying build\\lib\\torchlight\\__init__.py -> build\\bdist.win-amd64\\egg\\torchlight\n",
      "byte-compiling build\\bdist.win-amd64\\egg\\torchlight\\gpu.py to gpu.cpython-39.pyc\n",
      "byte-compiling build\\bdist.win-amd64\\egg\\torchlight\\io.py to io.cpython-39.pyc\n",
      "byte-compiling build\\bdist.win-amd64\\egg\\torchlight\\__init__.py to __init__.cpython-39.pyc\n",
      "creating build\\bdist.win-amd64\\egg\\EGG-INFO\n",
      "copying torchlight.egg-info\\PKG-INFO -> build\\bdist.win-amd64\\egg\\EGG-INFO\n",
      "copying torchlight.egg-info\\SOURCES.txt -> build\\bdist.win-amd64\\egg\\EGG-INFO\n",
      "copying torchlight.egg-info\\dependency_links.txt -> build\\bdist.win-amd64\\egg\\EGG-INFO\n",
      "copying torchlight.egg-info\\top_level.txt -> build\\bdist.win-amd64\\egg\\EGG-INFO\n",
      "creating dist\n",
      "creating 'dist\\torchlight-1.0-py3.9.egg' and adding 'build\\bdist.win-amd64\\egg' to it\n",
      "removing 'build\\bdist.win-amd64\\egg' (and everything under it)\n",
      "Processing torchlight-1.0-py3.9.egg\n",
      "Copying torchlight-1.0-py3.9.egg to c:\\users\\nguyen\\miniconda3\\envs\\py39\\lib\\site-packages\n",
      "Adding torchlight 1.0 to easy-install.pth file\n",
      "\n",
      "Installed c:\\users\\nguyen\\miniconda3\\envs\\py39\\lib\\site-packages\\torchlight-1.0-py3.9.egg\n",
      "Processing dependencies for torchlight==1.0\n",
      "Finished processing dependencies for torchlight==1.0\n",
      "c:\\Users\\NGUYEN\\Desktop\\st-gcn-tam\n"
     ]
    },
    {
     "name": "stderr",
     "output_type": "stream",
     "text": [
      "c:\\Users\\NGUYEN\\miniconda3\\envs\\py39\\lib\\site-packages\\setuptools\\_distutils\\cmd.py:79: SetuptoolsDeprecationWarning: setup.py install is deprecated.\n",
      "!!\n",
      "\n",
      "        ********************************************************************************\n",
      "        Please avoid running ``setup.py`` directly.\n",
      "        Instead, use pypa/build, pypa/installer or other\n",
      "        standards-based tools.\n",
      "\n",
      "        See https://blog.ganssle.io/articles/2021/10/setup-py-deprecated.html for details.\n",
      "        ********************************************************************************\n",
      "\n",
      "!!\n",
      "  self.initialize_options()\n",
      "c:\\Users\\NGUYEN\\miniconda3\\envs\\py39\\lib\\site-packages\\setuptools\\_distutils\\cmd.py:79: EasyInstallDeprecationWarning: easy_install command is deprecated.\n",
      "!!\n",
      "\n",
      "        ********************************************************************************\n",
      "        Please avoid running ``setup.py`` and ``easy_install``.\n",
      "        Instead, use pypa/build, pypa/installer or other\n",
      "        standards-based tools.\n",
      "\n",
      "        See https://github.com/pypa/setuptools/issues/917 for details.\n",
      "        ********************************************************************************\n",
      "\n",
      "!!\n",
      "  self.initialize_options()\n",
      "zip_safe flag not set; analyzing archive contents...\n"
     ]
    }
   ],
   "source": [
    "%cd torchlight\n",
    "!python setup.py install\n",
    "%cd .."
   ]
  },
  {
   "cell_type": "code",
   "execution_count": 4,
   "metadata": {},
   "outputs": [
    {
     "name": "stderr",
     "output_type": "stream",
     "text": [
      "\n",
      "A module that was compiled using NumPy 1.x cannot be run in\n",
      "NumPy 2.0.2 as it may crash. To support both 1.x and 2.x\n",
      "versions of NumPy, modules must be compiled with NumPy 2.0.\n",
      "Some module may need to rebuild instead e.g. with 'pybind11>=2.12'.\n",
      "\n",
      "If you are a user of the module, the easiest solution will be to\n",
      "downgrade to 'numpy<2' or try to upgrade the affected module.\n",
      "We expect that some modules will need time to support NumPy 2.\n",
      "\n",
      "Traceback (most recent call last):  File \"c:\\Users\\NGUYEN\\Desktop\\st-gcn-tam\\main.py\", line 16, in <module>\n",
      "    processors['demo_old'] = import_class('processor.demo_old.Demo')\n",
      "  File \"c:\\Users\\NGUYEN\\miniconda3\\envs\\py39\\lib\\site-packages\\torchlight-1.0-py3.9.egg\\torchlight\\io.py\", line 183, in import_class\n",
      "    __import__(mod_str)\n",
      "  File \"c:\\Users\\NGUYEN\\Desktop\\st-gcn-tam\\processor\\demo_old.py\", line 12, in <module>\n",
      "    import tools\n",
      "  File \"c:\\Users\\NGUYEN\\Desktop\\st-gcn-tam\\tools\\__init__.py\", line 1, in <module>\n",
      "    from . import utils\n",
      "  File \"c:\\Users\\NGUYEN\\Desktop\\st-gcn-tam\\tools\\utils\\__init__.py\", line 1, in <module>\n",
      "    from . import video\n",
      "  File \"c:\\Users\\NGUYEN\\Desktop\\st-gcn-tam\\tools\\utils\\video.py\", line 3, in <module>\n",
      "    import cv2\n",
      "  File \"c:\\Users\\NGUYEN\\miniconda3\\envs\\py39\\lib\\site-packages\\cv2\\__init__.py\", line 181, in <module>\n",
      "    bootstrap()\n",
      "  File \"c:\\Users\\NGUYEN\\miniconda3\\envs\\py39\\lib\\site-packages\\cv2\\__init__.py\", line 153, in bootstrap\n",
      "    native_module = importlib.import_module(\"cv2\")\n",
      "  File \"c:\\Users\\NGUYEN\\miniconda3\\envs\\py39\\lib\\importlib\\__init__.py\", line 127, in import_module\n",
      "    return _bootstrap._gcd_import(name[level:], package, level)\n",
      "AttributeError: _ARRAY_API not found\n",
      "Traceback (most recent call last):\n",
      "  File \"c:\\Users\\NGUYEN\\Desktop\\st-gcn-tam\\main.py\", line 16, in <module>\n",
      "    processors['demo_old'] = import_class('processor.demo_old.Demo')\n",
      "  File \"c:\\Users\\NGUYEN\\miniconda3\\envs\\py39\\lib\\site-packages\\torchlight-1.0-py3.9.egg\\torchlight\\io.py\", line 183, in import_class\n",
      "  File \"c:\\Users\\NGUYEN\\Desktop\\st-gcn-tam\\processor\\demo_old.py\", line 12, in <module>\n",
      "    import tools\n",
      "  File \"c:\\Users\\NGUYEN\\Desktop\\st-gcn-tam\\tools\\__init__.py\", line 1, in <module>\n",
      "    from . import utils\n",
      "  File \"c:\\Users\\NGUYEN\\Desktop\\st-gcn-tam\\tools\\utils\\__init__.py\", line 1, in <module>\n",
      "    from . import video\n",
      "  File \"c:\\Users\\NGUYEN\\Desktop\\st-gcn-tam\\tools\\utils\\video.py\", line 3, in <module>\n",
      "    import cv2\n",
      "  File \"c:\\Users\\NGUYEN\\miniconda3\\envs\\py39\\lib\\site-packages\\cv2\\__init__.py\", line 181, in <module>\n",
      "    bootstrap()\n",
      "  File \"c:\\Users\\NGUYEN\\miniconda3\\envs\\py39\\lib\\site-packages\\cv2\\__init__.py\", line 153, in bootstrap\n",
      "    native_module = importlib.import_module(\"cv2\")\n",
      "  File \"c:\\Users\\NGUYEN\\miniconda3\\envs\\py39\\lib\\importlib\\__init__.py\", line 127, in import_module\n",
      "    return _bootstrap._gcd_import(name[level:], package, level)\n",
      "ImportError: numpy.core.multiarray failed to import\n"
     ]
    }
   ],
   "source": [
    "!python main.py recognition -c config/st_gcn/ntu-xsub/test.yaml"
   ]
  }
 ],
 "metadata": {
  "kernelspec": {
   "display_name": "py39",
   "language": "python",
   "name": "python3"
  },
  "language_info": {
   "codemirror_mode": {
    "name": "ipython",
    "version": 3
   },
   "file_extension": ".py",
   "mimetype": "text/x-python",
   "name": "python",
   "nbconvert_exporter": "python",
   "pygments_lexer": "ipython3",
   "version": "3.9.21"
  }
 },
 "nbformat": 4,
 "nbformat_minor": 2
}
