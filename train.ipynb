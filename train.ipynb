{
  "cells": [
    {
      "cell_type": "code",
      "execution_count": 1,
      "metadata": {
        "colab": {
          "base_uri": "https://localhost:8080/"
        },
        "id": "n9NNCIpLoIeg",
        "outputId": "3bee4b0c-b10c-44f4-f7c6-7f3f88e97bd9"
      },
      "outputs": [
        {
          "name": "stdout",
          "output_type": "stream",
          "text": [
            "Cloning into 'st-gcn'...\n",
            "remote: Enumerating objects: 1148, done.\u001b[K\n",
            "remote: Counting objects: 100% (102/102), done.\u001b[K\n",
            "remote: Compressing objects: 100% (80/80), done.\u001b[K\n",
            "remote: Total 1148 (delta 42), reused 75 (delta 22), pack-reused 1046 (from 1)\u001b[K\n",
            "Receiving objects: 100% (1148/1148), 57.34 MiB | 17.51 MiB/s, done.\n",
            "Resolving deltas: 100% (609/609), done.\n"
          ]
        }
      ],
      "source": [
        "!git clone https://github.com/htrnguyen/st-gcn.git"
      ]
    },
    {
      "cell_type": "code",
      "execution_count": 2,
      "metadata": {
        "colab": {
          "base_uri": "https://localhost:8080/"
        },
        "id": "vuhI3utHmiYr",
        "outputId": "731d7cf5-c147-4bda-fdec-95077eb8d1ea"
      },
      "outputs": [
        {
          "name": "stdout",
          "output_type": "stream",
          "text": [
            "/usr/local/lib/python3.11/dist-packages/gdown/__main__.py:140: FutureWarning: Option `--id` was deprecated in version 4.3.1 and will be removed in 5.0. You don't need to pass it anymore to use a file ID.\n",
            "  warnings.warn(\n",
            "Downloading...\n",
            "From (original): https://drive.google.com/uc?id=1TXe0pceGvWUSrwxsVZVeyBL_uIXjiECF\n",
            "From (redirected): https://drive.google.com/uc?id=1TXe0pceGvWUSrwxsVZVeyBL_uIXjiECF&confirm=t&uuid=506992c1-482f-44ed-9397-a3f48daa7221\n",
            "To: /content/GCN-HAR.zip\n",
            "100% 3.44G/3.44G [00:43<00:00, 79.3MB/s]\n"
          ]
        }
      ],
      "source": [
        "!gdown --id 1TXe0pceGvWUSrwxsVZVeyBL_uIXjiECF"
      ]
    },
    {
      "cell_type": "markdown",
      "metadata": {},
      "source": []
    },
    {
      "cell_type": "code",
      "execution_count": 3,
      "metadata": {
        "colab": {
          "base_uri": "https://localhost:8080/"
        },
        "id": "XuO2h4xmmq7u",
        "outputId": "83b412bc-35f0-4cfa-d036-ffc87deede80"
      },
      "outputs": [
        {
          "name": "stdout",
          "output_type": "stream",
          "text": [
            "Archive:  GCN-HAR.zip\n",
            "   creating: GCN-HAR/\n",
            "   creating: GCN-HAR/models/\n",
            "  inflating: GCN-HAR/models/kinetics-st_gcn.pt  \n",
            "   creating: GCN-HAR/models/pose/\n",
            "   creating: GCN-HAR/models/pose/coco/\n",
            "  inflating: GCN-HAR/models/pose/coco/pose_deploy_linevec.prototxt  \n",
            "  inflating: GCN-HAR/models/pose/coco/pose_iter_440000.caffemodel  \n",
            "  inflating: GCN-HAR/models/st_gcn.kinetics.pt  \n",
            "  inflating: GCN-HAR/models/st_gcn.ntu-xsub.pt  \n",
            "  inflating: GCN-HAR/models/st_gcn.ntu-xview.pt  \n",
            "   creating: GCN-HAR/NTU-RGB-D/\n",
            "   creating: GCN-HAR/NTU-RGB-D/xsub/\n",
            "  inflating: GCN-HAR/NTU-RGB-D/xsub/train_data.npy  \n",
            "  inflating: GCN-HAR/NTU-RGB-D/xsub/train_label.pkl  \n",
            "  inflating: GCN-HAR/NTU-RGB-D/xsub/val_data.npy  \n",
            "  inflating: GCN-HAR/NTU-RGB-D/xsub/val_label.pkl  \n",
            "   creating: GCN-HAR/NTU-RGB-D/xview/\n",
            "  inflating: GCN-HAR/NTU-RGB-D/xview/train_data.npy  \n",
            "  inflating: GCN-HAR/NTU-RGB-D/xview/train_label.pkl  \n",
            "  inflating: GCN-HAR/NTU-RGB-D/xview/val_data.npy  \n",
            "  inflating: GCN-HAR/NTU-RGB-D/xview/val_label.pkl  \n"
          ]
        }
      ],
      "source": [
        "!unzip GCN-HAR.zip"
      ]
    },
    {
      "cell_type": "code",
      "execution_count": 4,
      "metadata": {
        "colab": {
          "base_uri": "https://localhost:8080/"
        },
        "id": "CI-2GLDEmseQ",
        "outputId": "9c4fbe36-01c6-491d-9531-0a418ce654ba"
      },
      "outputs": [
        {
          "name": "stdout",
          "output_type": "stream",
          "text": [
            "/content/st-gcn\n"
          ]
        }
      ],
      "source": [
        "%cd /content/st-gcn"
      ]
    },
    {
      "cell_type": "code",
      "execution_count": 5,
      "metadata": {
        "id": "-c5pJZzimuhP"
      },
      "outputs": [],
      "source": [
        "!mkdir data\n",
        "\n",
        "!mv -f /content/GCN-HAR/NTU-RGB-D data/\n",
        "!cp -r /content/GCN-HAR/models/* models/"
      ]
    },
    {
      "cell_type": "code",
      "execution_count": 6,
      "metadata": {
        "colab": {
          "base_uri": "https://localhost:8080/"
        },
        "id": "0nf8lPgRog79",
        "outputId": "c38c741e-a9c0-40fd-91b8-ca51234e3235"
      },
      "outputs": [
        {
          "name": "stdout",
          "output_type": "stream",
          "text": [
            "\u001b[2K   \u001b[90m━━━━━━━━━━━━━━━━━━━━━━━━━━━━━━━━━━━━━━━━\u001b[0m \u001b[32m2.3/2.3 MB\u001b[0m \u001b[31m37.7 MB/s\u001b[0m eta \u001b[36m0:00:00\u001b[0m\n",
            "\u001b[2K   \u001b[90m━━━━━━━━━━━━━━━━━━━━━━━━━━━━━━━━━━━━━━━━\u001b[0m \u001b[32m363.4/363.4 MB\u001b[0m \u001b[31m4.0 MB/s\u001b[0m eta \u001b[36m0:00:00\u001b[0m\n",
            "\u001b[2K   \u001b[90m━━━━━━━━━━━━━━━━━━━━━━━━━━━━━━━━━━━━━━━━\u001b[0m \u001b[32m13.8/13.8 MB\u001b[0m \u001b[31m101.4 MB/s\u001b[0m eta \u001b[36m0:00:00\u001b[0m\n",
            "\u001b[2K   \u001b[90m━━━━━━━━━━━━━━━━━━━━━━━━━━━━━━━━━━━━━━━━\u001b[0m \u001b[32m24.6/24.6 MB\u001b[0m \u001b[31m56.9 MB/s\u001b[0m eta \u001b[36m0:00:00\u001b[0m\n",
            "\u001b[2K   \u001b[90m━━━━━━━━━━━━━━━━━━━━━━━━━━━━━━━━━━━━━━━━\u001b[0m \u001b[32m883.7/883.7 kB\u001b[0m \u001b[31m41.2 MB/s\u001b[0m eta \u001b[36m0:00:00\u001b[0m\n",
            "\u001b[2K   \u001b[90m━━━━━━━━━━━━━━━━━━━━━━━━━━━━━━━━━━━━━━━━\u001b[0m \u001b[32m664.8/664.8 MB\u001b[0m \u001b[31m2.5 MB/s\u001b[0m eta \u001b[36m0:00:00\u001b[0m\n",
            "\u001b[2K   \u001b[90m━━━━━━━━━━━━━━━━━━━━━━━━━━━━━━━━━━━━━━━━\u001b[0m \u001b[32m211.5/211.5 MB\u001b[0m \u001b[31m6.0 MB/s\u001b[0m eta \u001b[36m0:00:00\u001b[0m\n",
            "\u001b[2K   \u001b[90m━━━━━━━━━━━━━━━━━━━━━━━━━━━━━━━━━━━━━━━━\u001b[0m \u001b[32m56.3/56.3 MB\u001b[0m \u001b[31m12.9 MB/s\u001b[0m eta \u001b[36m0:00:00\u001b[0m\n",
            "\u001b[2K   \u001b[90m━━━━━━━━━━━━━━━━━━━━━━━━━━━━━━━━━━━━━━━━\u001b[0m \u001b[32m127.9/127.9 MB\u001b[0m \u001b[31m7.5 MB/s\u001b[0m eta \u001b[36m0:00:00\u001b[0m\n",
            "\u001b[2K   \u001b[90m━━━━━━━━━━━━━━━━━━━━━━━━━━━━━━━━━━━━━━━━\u001b[0m \u001b[32m207.5/207.5 MB\u001b[0m \u001b[31m5.8 MB/s\u001b[0m eta \u001b[36m0:00:00\u001b[0m\n",
            "\u001b[2K   \u001b[90m━━━━━━━━━━━━━━━━━━━━━━━━━━━━━━━━━━━━━━━━\u001b[0m \u001b[32m21.1/21.1 MB\u001b[0m \u001b[31m91.0 MB/s\u001b[0m eta \u001b[36m0:00:00\u001b[0m\n",
            "\u001b[?25h"
          ]
        }
      ],
      "source": [
        "!pip install -r requirements.txt -q"
      ]
    },
    {
      "cell_type": "code",
      "execution_count": 7,
      "metadata": {
        "colab": {
          "base_uri": "https://localhost:8080/"
        },
        "id": "GTlBf61uoiFg",
        "outputId": "381251e0-2dd2-4a54-aded-2034f95420a3"
      },
      "outputs": [
        {
          "name": "stdout",
          "output_type": "stream",
          "text": [
            "/content/st-gcn/torchlight\n",
            "running install\n",
            "/usr/local/lib/python3.11/dist-packages/setuptools/_distutils/cmd.py:66: SetuptoolsDeprecationWarning: setup.py install is deprecated.\n",
            "!!\n",
            "\n",
            "        ********************************************************************************\n",
            "        Please avoid running ``setup.py`` directly.\n",
            "        Instead, use pypa/build, pypa/installer or other\n",
            "        standards-based tools.\n",
            "\n",
            "        See https://blog.ganssle.io/articles/2021/10/setup-py-deprecated.html for details.\n",
            "        ********************************************************************************\n",
            "\n",
            "!!\n",
            "  self.initialize_options()\n",
            "/usr/local/lib/python3.11/dist-packages/setuptools/_distutils/cmd.py:66: EasyInstallDeprecationWarning: easy_install command is deprecated.\n",
            "!!\n",
            "\n",
            "        ********************************************************************************\n",
            "        Please avoid running ``setup.py`` and ``easy_install``.\n",
            "        Instead, use pypa/build, pypa/installer or other\n",
            "        standards-based tools.\n",
            "\n",
            "        See https://github.com/pypa/setuptools/issues/917 for details.\n",
            "        ********************************************************************************\n",
            "\n",
            "!!\n",
            "  self.initialize_options()\n",
            "running bdist_egg\n",
            "running egg_info\n",
            "creating torchlight.egg-info\n",
            "writing torchlight.egg-info/PKG-INFO\n",
            "writing dependency_links to torchlight.egg-info/dependency_links.txt\n",
            "writing top-level names to torchlight.egg-info/top_level.txt\n",
            "writing manifest file 'torchlight.egg-info/SOURCES.txt'\n",
            "reading manifest file 'torchlight.egg-info/SOURCES.txt'\n",
            "writing manifest file 'torchlight.egg-info/SOURCES.txt'\n",
            "installing library code to build/bdist.linux-x86_64/egg\n",
            "running install_lib\n",
            "running build_py\n",
            "creating build/lib/torchlight\n",
            "copying torchlight/io.py -> build/lib/torchlight\n",
            "copying torchlight/gpu.py -> build/lib/torchlight\n",
            "copying torchlight/__init__.py -> build/lib/torchlight\n",
            "creating build/bdist.linux-x86_64/egg\n",
            "creating build/bdist.linux-x86_64/egg/torchlight\n",
            "copying build/lib/torchlight/io.py -> build/bdist.linux-x86_64/egg/torchlight\n",
            "copying build/lib/torchlight/gpu.py -> build/bdist.linux-x86_64/egg/torchlight\n",
            "copying build/lib/torchlight/__init__.py -> build/bdist.linux-x86_64/egg/torchlight\n",
            "byte-compiling build/bdist.linux-x86_64/egg/torchlight/io.py to io.cpython-311.pyc\n",
            "byte-compiling build/bdist.linux-x86_64/egg/torchlight/gpu.py to gpu.cpython-311.pyc\n",
            "byte-compiling build/bdist.linux-x86_64/egg/torchlight/__init__.py to __init__.cpython-311.pyc\n",
            "creating build/bdist.linux-x86_64/egg/EGG-INFO\n",
            "copying torchlight.egg-info/PKG-INFO -> build/bdist.linux-x86_64/egg/EGG-INFO\n",
            "copying torchlight.egg-info/SOURCES.txt -> build/bdist.linux-x86_64/egg/EGG-INFO\n",
            "copying torchlight.egg-info/dependency_links.txt -> build/bdist.linux-x86_64/egg/EGG-INFO\n",
            "copying torchlight.egg-info/top_level.txt -> build/bdist.linux-x86_64/egg/EGG-INFO\n",
            "zip_safe flag not set; analyzing archive contents...\n",
            "creating dist\n",
            "creating 'dist/torchlight-1.0-py3.11.egg' and adding 'build/bdist.linux-x86_64/egg' to it\n",
            "removing 'build/bdist.linux-x86_64/egg' (and everything under it)\n",
            "Processing torchlight-1.0-py3.11.egg\n",
            "Copying torchlight-1.0-py3.11.egg to /usr/local/lib/python3.11/dist-packages\n",
            "Adding torchlight 1.0 to easy-install.pth file\n",
            "\n",
            "Installed /usr/local/lib/python3.11/dist-packages/torchlight-1.0-py3.11.egg\n",
            "Processing dependencies for torchlight==1.0\n",
            "Finished processing dependencies for torchlight==1.0\n",
            "/content/st-gcn\n"
          ]
        }
      ],
      "source": [
        "%cd torchlight\n",
        "!python setup.py install\n",
        "%cd .."
      ]
    },
    {
      "cell_type": "code",
      "execution_count": null,
      "metadata": {
        "colab": {
          "base_uri": "https://localhost:8080/"
        },
        "id": "IwfFbDrFkUFs",
        "outputId": "f8ffa810-ed87-4278-fcc8-187f0871748d"
      },
      "outputs": [
        {
          "name": "stdout",
          "output_type": "stream",
          "text": [
            "/usr/local/lib/python3.11/dist-packages/torch/utils/data/dataloader.py:617: UserWarning: This DataLoader will create 4 worker processes in total. Our suggested max number of worker in current system is 2, which is smaller than what this DataLoader is going to create. Please be aware that excessive worker creation might get DataLoader running slow or even freeze, lower the worker number to avoid potential slowness/freeze if necessary.\n",
            "  warnings.warn(\n",
            "Parameters:\n",
            "{'work_dir': './work_dir/recognition/ntu-xsub/ST_GCN', 'config': 'config/st_gcn/ntu-xsub/train.yaml', 'phase': 'train', 'save_result': False, 'start_epoch': 0, 'num_epoch': 80, 'use_gpu': True, 'device': [0], 'log_interval': 100, 'save_interval': 5, 'eval_interval': 5, 'save_log': True, 'print_log': True, 'pavi_log': False, 'feeder': 'feeder.feeder.Feeder', 'num_worker': 4, 'train_feeder_args': {'data_path': './data/NTU-RGB-D/xsub/train_data.npy', 'label_path': './data/NTU-RGB-D/xsub/train_label.pkl', 'debug': False}, 'test_feeder_args': {'data_path': './data/NTU-RGB-D/xsub/val_data.npy', 'label_path': './data/NTU-RGB-D/xsub/val_label.pkl'}, 'batch_size': 16, 'test_batch_size': 16, 'debug': False, 'model': 'net.st_gcn.Model', 'model_args': {'in_channels': 3, 'num_class': 60, 'dropout': 0.5, 'edge_importance_weighting': True, 'graph_args': {'layout': 'ntu-rgb+d', 'strategy': 'spatial'}}, 'weights': None, 'ignore_weights': [], 'show_topk': [1, 5], 'base_lr': 0.1, 'step': [10, 50], 'optimizer': 'SGD', 'nesterov': True, 'weight_decay': 0.0001}\n",
            "\n",
            "Training epoch: 0\n",
            "\tIter 0 Done. | loss: 4.0978 | lr: 0.100000\n",
            "\tIter 100 Done. | loss: 4.2367 | lr: 0.100000\n",
            "\tIter 200 Done. | loss: 3.9922 | lr: 0.100000\n",
            "\tIter 300 Done. | loss: 3.7023 | lr: 0.100000\n",
            "\tIter 400 Done. | loss: 3.6495 | lr: 0.100000\n",
            "\tIter 500 Done. | loss: 3.5241 | lr: 0.100000\n",
            "\tIter 600 Done. | loss: 3.6205 | lr: 0.100000\n",
            "\tIter 700 Done. | loss: 3.3219 | lr: 0.100000\n",
            "\tIter 800 Done. | loss: 2.5879 | lr: 0.100000\n",
            "\tIter 900 Done. | loss: 3.0183 | lr: 0.100000\n",
            "\tIter 1000 Done. | loss: 2.9608 | lr: 0.100000\n",
            "\tIter 1100 Done. | loss: 2.2376 | lr: 0.100000\n",
            "\tIter 1200 Done. | loss: 2.7986 | lr: 0.100000\n",
            "\tIter 1300 Done. | loss: 4.3456 | lr: 0.100000\n",
            "\tIter 1400 Done. | loss: 3.1213 | lr: 0.100000\n",
            "\tIter 1500 Done. | loss: 2.3178 | lr: 0.100000\n",
            "\tIter 1600 Done. | loss: 2.4435 | lr: 0.100000\n",
            "\tIter 1700 Done. | loss: 2.3657 | lr: 0.100000\n",
            "\tIter 1800 Done. | loss: 2.6167 | lr: 0.100000\n",
            "\tIter 1900 Done. | loss: 2.4416 | lr: 0.100000\n",
            "\tIter 2000 Done. | loss: 2.0359 | lr: 0.100000\n",
            "\tIter 2100 Done. | loss: 3.0094 | lr: 0.100000\n",
            "\tIter 2200 Done. | loss: 2.0824 | lr: 0.100000\n",
            "\tIter 2300 Done. | loss: 1.7539 | lr: 0.100000\n",
            "\tIter 2400 Done. | loss: 1.9808 | lr: 0.100000\n",
            "\tIter 2500 Done. | loss: 2.5504 | lr: 0.100000\n",
            "\tmean_loss: 2.918591284276007\n",
            "Time consumption:\n",
            "Done.\n",
            "Training epoch: 1\n",
            "\tIter 2600 Done. | loss: 1.8882 | lr: 0.100000\n",
            "\tIter 2700 Done. | loss: 2.5887 | lr: 0.100000\n"
          ]
        }
      ],
      "source": [
        "!python main.py recognition -c config/st_gcn/ntu-xsub/train.yaml"
      ]
    }
  ],
  "metadata": {
    "accelerator": "GPU",
    "colab": {
      "gpuType": "T4",
      "provenance": []
    },
    "kernelspec": {
      "display_name": "Python 3",
      "name": "python3"
    },
    "language_info": {
      "name": "python"
    }
  },
  "nbformat": 4,
  "nbformat_minor": 0
}
