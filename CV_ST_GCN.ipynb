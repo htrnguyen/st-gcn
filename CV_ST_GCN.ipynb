{
  "nbformat": 4,
  "nbformat_minor": 0,
  "metadata": {
    "colab": {
      "provenance": [],
      "gpuType": "T4"
    },
    "kernelspec": {
      "name": "python3",
      "display_name": "Python 3"
    },
    "language_info": {
      "name": "python"
    },
    "accelerator": "GPU"
  },
  "cells": [
    {
      "cell_type": "code",
      "source": [
        "%cd /content"
      ],
      "metadata": {
        "colab": {
          "base_uri": "https://localhost:8080/"
        },
        "id": "j03k8Cm5NFIU",
        "outputId": "cc66a88c-4285-4410-8060-01781ec356e3"
      },
      "execution_count": 2,
      "outputs": [
        {
          "output_type": "stream",
          "name": "stdout",
          "text": [
            "/content\n"
          ]
        }
      ]
    },
    {
      "cell_type": "code",
      "execution_count": 3,
      "metadata": {
        "colab": {
          "base_uri": "https://localhost:8080/"
        },
        "id": "2GdjpJSm5sXP",
        "outputId": "8ce317cc-3560-4fd7-8b75-ae2949adfacb"
      },
      "outputs": [
        {
          "output_type": "stream",
          "name": "stdout",
          "text": [
            "Cloning into 'st-gcn'...\n",
            "remote: Enumerating objects: 1094, done.\u001b[K\n",
            "remote: Counting objects: 100% (48/48), done.\u001b[K\n",
            "remote: Compressing objects: 100% (41/41), done.\u001b[K\n",
            "remote: Total 1094 (delta 12), reused 38 (delta 7), pack-reused 1046 (from 1)\u001b[K\n",
            "Receiving objects: 100% (1094/1094), 57.32 MiB | 14.21 MiB/s, done.\n",
            "Resolving deltas: 100% (579/579), done.\n"
          ]
        }
      ],
      "source": [
        "!git clone https://github.com/htrnguyen/st-gcn.git"
      ]
    },
    {
      "cell_type": "code",
      "source": [
        "!pip install -U -q gdown"
      ],
      "metadata": {
        "id": "XSbSi-AZ8v-Q"
      },
      "execution_count": 4,
      "outputs": []
    },
    {
      "cell_type": "code",
      "source": [
        "!gdown --id 1TXe0pceGvWUSrwxsVZVeyBL_uIXjiECF"
      ],
      "metadata": {
        "id": "sz8kf9_I_3H4",
        "colab": {
          "base_uri": "https://localhost:8080/"
        },
        "outputId": "bbcf7f48-4329-4edf-b76b-52c1c0bd8661"
      },
      "execution_count": 5,
      "outputs": [
        {
          "output_type": "stream",
          "name": "stdout",
          "text": [
            "/usr/local/lib/python3.11/dist-packages/gdown/__main__.py:140: FutureWarning: Option `--id` was deprecated in version 4.3.1 and will be removed in 5.0. You don't need to pass it anymore to use a file ID.\n",
            "  warnings.warn(\n",
            "Downloading...\n",
            "From (original): https://drive.google.com/uc?id=1TXe0pceGvWUSrwxsVZVeyBL_uIXjiECF\n",
            "From (redirected): https://drive.google.com/uc?id=1TXe0pceGvWUSrwxsVZVeyBL_uIXjiECF&confirm=t&uuid=ffa52d76-5e74-4173-a255-67451ea2e283\n",
            "To: /content/GCN-HAR.zip\n",
            "100% 3.44G/3.44G [00:14<00:00, 237MB/s]\n"
          ]
        }
      ]
    },
    {
      "cell_type": "code",
      "source": [
        "!unzip GCN-HAR.zip"
      ],
      "metadata": {
        "colab": {
          "base_uri": "https://localhost:8080/"
        },
        "id": "EIzzNS5N_8yF",
        "outputId": "6868d771-e001-4880-8706-b47f60bea372"
      },
      "execution_count": 6,
      "outputs": [
        {
          "output_type": "stream",
          "name": "stdout",
          "text": [
            "Archive:  GCN-HAR.zip\n",
            "   creating: GCN-HAR/\n",
            "   creating: GCN-HAR/models/\n",
            "  inflating: GCN-HAR/models/kinetics-st_gcn.pt  \n",
            "   creating: GCN-HAR/models/pose/\n",
            "   creating: GCN-HAR/models/pose/coco/\n",
            "  inflating: GCN-HAR/models/pose/coco/pose_deploy_linevec.prototxt  \n",
            "  inflating: GCN-HAR/models/pose/coco/pose_iter_440000.caffemodel  \n",
            "  inflating: GCN-HAR/models/st_gcn.kinetics.pt  \n",
            "  inflating: GCN-HAR/models/st_gcn.ntu-xsub.pt  \n",
            "  inflating: GCN-HAR/models/st_gcn.ntu-xview.pt  \n",
            "   creating: GCN-HAR/NTU-RGB-D/\n",
            "   creating: GCN-HAR/NTU-RGB-D/xsub/\n",
            "  inflating: GCN-HAR/NTU-RGB-D/xsub/train_data.npy  \n",
            "  inflating: GCN-HAR/NTU-RGB-D/xsub/train_label.pkl  \n",
            "  inflating: GCN-HAR/NTU-RGB-D/xsub/val_data.npy  \n",
            "  inflating: GCN-HAR/NTU-RGB-D/xsub/val_label.pkl  \n",
            "   creating: GCN-HAR/NTU-RGB-D/xview/\n",
            "  inflating: GCN-HAR/NTU-RGB-D/xview/train_data.npy  \n",
            "  inflating: GCN-HAR/NTU-RGB-D/xview/train_label.pkl  \n",
            "  inflating: GCN-HAR/NTU-RGB-D/xview/val_data.npy  \n",
            "  inflating: GCN-HAR/NTU-RGB-D/xview/val_label.pkl  \n"
          ]
        }
      ]
    },
    {
      "cell_type": "code",
      "source": [
        "%cd /content/st-gcn"
      ],
      "metadata": {
        "colab": {
          "base_uri": "https://localhost:8080/"
        },
        "id": "EnfyTDONHccG",
        "outputId": "e46c7c76-edb9-497c-fd7d-6f0f1f7cb9c9"
      },
      "execution_count": 7,
      "outputs": [
        {
          "output_type": "stream",
          "name": "stdout",
          "text": [
            "/content/st-gcn\n"
          ]
        }
      ]
    },
    {
      "cell_type": "code",
      "source": [
        "!pwd"
      ],
      "metadata": {
        "colab": {
          "base_uri": "https://localhost:8080/"
        },
        "id": "e6dIX25lHglW",
        "outputId": "4f84cb1d-3fcf-49a5-86ba-dd7bf68ec71b"
      },
      "execution_count": 8,
      "outputs": [
        {
          "output_type": "stream",
          "name": "stdout",
          "text": [
            "/content/st-gcn\n"
          ]
        }
      ]
    },
    {
      "cell_type": "code",
      "source": [
        "!mkdir data"
      ],
      "metadata": {
        "id": "jmL5MLiJALq2"
      },
      "execution_count": 9,
      "outputs": []
    },
    {
      "cell_type": "code",
      "source": [
        "!mv -f /content/GCN-HAR/NTU-RGB-D data/\n",
        "!cp -r /content/GCN-HAR/models/* models/"
      ],
      "metadata": {
        "id": "r38qoJo-HaaE"
      },
      "execution_count": 10,
      "outputs": []
    },
    {
      "cell_type": "code",
      "source": [
        "!pip install -r requirements.txt -q"
      ],
      "metadata": {
        "colab": {
          "base_uri": "https://localhost:8080/"
        },
        "id": "F8bh0XnlH1Z9",
        "outputId": "425819cc-f121-4023-8c38-8c2d505521a7"
      },
      "execution_count": 11,
      "outputs": [
        {
          "output_type": "stream",
          "name": "stdout",
          "text": [
            "\u001b[2K   \u001b[90m━━━━━━━━━━━━━━━━━━━━━━━━━━━━━━━━━━━━━━━━\u001b[0m \u001b[32m2.3/2.3 MB\u001b[0m \u001b[31m75.1 MB/s\u001b[0m eta \u001b[36m0:00:00\u001b[0m\n",
            "\u001b[2K   \u001b[90m━━━━━━━━━━━━━━━━━━━━━━━━━━━━━━━━━━━━━━━━\u001b[0m \u001b[32m363.4/363.4 MB\u001b[0m \u001b[31m4.2 MB/s\u001b[0m eta \u001b[36m0:00:00\u001b[0m\n",
            "\u001b[2K   \u001b[90m━━━━━━━━━━━━━━━━━━━━━━━━━━━━━━━━━━━━━━━━\u001b[0m \u001b[32m13.8/13.8 MB\u001b[0m \u001b[31m103.5 MB/s\u001b[0m eta \u001b[36m0:00:00\u001b[0m\n",
            "\u001b[2K   \u001b[90m━━━━━━━━━━━━━━━━━━━━━━━━━━━━━━━━━━━━━━━━\u001b[0m \u001b[32m24.6/24.6 MB\u001b[0m \u001b[31m81.6 MB/s\u001b[0m eta \u001b[36m0:00:00\u001b[0m\n",
            "\u001b[2K   \u001b[90m━━━━━━━━━━━━━━━━━━━━━━━━━━━━━━━━━━━━━━━━\u001b[0m \u001b[32m883.7/883.7 kB\u001b[0m \u001b[31m54.3 MB/s\u001b[0m eta \u001b[36m0:00:00\u001b[0m\n",
            "\u001b[2K   \u001b[90m━━━━━━━━━━━━━━━━━━━━━━━━━━━━━━━━━━━━━━━━\u001b[0m \u001b[32m664.8/664.8 MB\u001b[0m \u001b[31m2.1 MB/s\u001b[0m eta \u001b[36m0:00:00\u001b[0m\n",
            "\u001b[2K   \u001b[90m━━━━━━━━━━━━━━━━━━━━━━━━━━━━━━━━━━━━━━━━\u001b[0m \u001b[32m211.5/211.5 MB\u001b[0m \u001b[31m5.9 MB/s\u001b[0m eta \u001b[36m0:00:00\u001b[0m\n",
            "\u001b[2K   \u001b[90m━━━━━━━━━━━━━━━━━━━━━━━━━━━━━━━━━━━━━━━━\u001b[0m \u001b[32m56.3/56.3 MB\u001b[0m \u001b[31m12.5 MB/s\u001b[0m eta \u001b[36m0:00:00\u001b[0m\n",
            "\u001b[2K   \u001b[90m━━━━━━━━━━━━━━━━━━━━━━━━━━━━━━━━━━━━━━━━\u001b[0m \u001b[32m127.9/127.9 MB\u001b[0m \u001b[31m7.1 MB/s\u001b[0m eta \u001b[36m0:00:00\u001b[0m\n",
            "\u001b[2K   \u001b[90m━━━━━━━━━━━━━━━━━━━━━━━━━━━━━━━━━━━━━━━━\u001b[0m \u001b[32m207.5/207.5 MB\u001b[0m \u001b[31m6.0 MB/s\u001b[0m eta \u001b[36m0:00:00\u001b[0m\n",
            "\u001b[2K   \u001b[90m━━━━━━━━━━━━━━━━━━━━━━━━━━━━━━━━━━━━━━━━\u001b[0m \u001b[32m21.1/21.1 MB\u001b[0m \u001b[31m93.7 MB/s\u001b[0m eta \u001b[36m0:00:00\u001b[0m\n",
            "\u001b[?25h"
          ]
        }
      ]
    },
    {
      "cell_type": "code",
      "source": [
        "%cd torchlight\n",
        "!python setup.py install\n",
        "%cd .."
      ],
      "metadata": {
        "colab": {
          "base_uri": "https://localhost:8080/"
        },
        "id": "P-LJm1BmIiLM",
        "outputId": "617d51e5-996b-4a17-e633-a73bae6c81c5"
      },
      "execution_count": 12,
      "outputs": [
        {
          "output_type": "stream",
          "name": "stdout",
          "text": [
            "/content/st-gcn/torchlight\n",
            "running install\n",
            "/usr/local/lib/python3.11/dist-packages/setuptools/_distutils/cmd.py:66: SetuptoolsDeprecationWarning: setup.py install is deprecated.\n",
            "!!\n",
            "\n",
            "        ********************************************************************************\n",
            "        Please avoid running ``setup.py`` directly.\n",
            "        Instead, use pypa/build, pypa/installer or other\n",
            "        standards-based tools.\n",
            "\n",
            "        See https://blog.ganssle.io/articles/2021/10/setup-py-deprecated.html for details.\n",
            "        ********************************************************************************\n",
            "\n",
            "!!\n",
            "  self.initialize_options()\n",
            "/usr/local/lib/python3.11/dist-packages/setuptools/_distutils/cmd.py:66: EasyInstallDeprecationWarning: easy_install command is deprecated.\n",
            "!!\n",
            "\n",
            "        ********************************************************************************\n",
            "        Please avoid running ``setup.py`` and ``easy_install``.\n",
            "        Instead, use pypa/build, pypa/installer or other\n",
            "        standards-based tools.\n",
            "\n",
            "        See https://github.com/pypa/setuptools/issues/917 for details.\n",
            "        ********************************************************************************\n",
            "\n",
            "!!\n",
            "  self.initialize_options()\n",
            "running bdist_egg\n",
            "running egg_info\n",
            "creating torchlight.egg-info\n",
            "writing torchlight.egg-info/PKG-INFO\n",
            "writing dependency_links to torchlight.egg-info/dependency_links.txt\n",
            "writing top-level names to torchlight.egg-info/top_level.txt\n",
            "writing manifest file 'torchlight.egg-info/SOURCES.txt'\n",
            "reading manifest file 'torchlight.egg-info/SOURCES.txt'\n",
            "writing manifest file 'torchlight.egg-info/SOURCES.txt'\n",
            "installing library code to build/bdist.linux-x86_64/egg\n",
            "running install_lib\n",
            "running build_py\n",
            "creating build/lib/torchlight\n",
            "copying torchlight/__init__.py -> build/lib/torchlight\n",
            "copying torchlight/io.py -> build/lib/torchlight\n",
            "copying torchlight/gpu.py -> build/lib/torchlight\n",
            "creating build/bdist.linux-x86_64/egg\n",
            "creating build/bdist.linux-x86_64/egg/torchlight\n",
            "copying build/lib/torchlight/__init__.py -> build/bdist.linux-x86_64/egg/torchlight\n",
            "copying build/lib/torchlight/io.py -> build/bdist.linux-x86_64/egg/torchlight\n",
            "copying build/lib/torchlight/gpu.py -> build/bdist.linux-x86_64/egg/torchlight\n",
            "byte-compiling build/bdist.linux-x86_64/egg/torchlight/__init__.py to __init__.cpython-311.pyc\n",
            "byte-compiling build/bdist.linux-x86_64/egg/torchlight/io.py to io.cpython-311.pyc\n",
            "byte-compiling build/bdist.linux-x86_64/egg/torchlight/gpu.py to gpu.cpython-311.pyc\n",
            "creating build/bdist.linux-x86_64/egg/EGG-INFO\n",
            "copying torchlight.egg-info/PKG-INFO -> build/bdist.linux-x86_64/egg/EGG-INFO\n",
            "copying torchlight.egg-info/SOURCES.txt -> build/bdist.linux-x86_64/egg/EGG-INFO\n",
            "copying torchlight.egg-info/dependency_links.txt -> build/bdist.linux-x86_64/egg/EGG-INFO\n",
            "copying torchlight.egg-info/top_level.txt -> build/bdist.linux-x86_64/egg/EGG-INFO\n",
            "zip_safe flag not set; analyzing archive contents...\n",
            "creating dist\n",
            "creating 'dist/torchlight-1.0-py3.11.egg' and adding 'build/bdist.linux-x86_64/egg' to it\n",
            "removing 'build/bdist.linux-x86_64/egg' (and everything under it)\n",
            "Processing torchlight-1.0-py3.11.egg\n",
            "Copying torchlight-1.0-py3.11.egg to /usr/local/lib/python3.11/dist-packages\n",
            "Adding torchlight 1.0 to easy-install.pth file\n",
            "\n",
            "Installed /usr/local/lib/python3.11/dist-packages/torchlight-1.0-py3.11.egg\n",
            "Processing dependencies for torchlight==1.0\n",
            "Finished processing dependencies for torchlight==1.0\n",
            "/content/st-gcn\n"
          ]
        }
      ]
    },
    {
      "cell_type": "code",
      "source": [
        "!python main.py recognition -c config/st_gcn/ntu-xview/test.yaml"
      ],
      "metadata": {
        "colab": {
          "base_uri": "https://localhost:8080/"
        },
        "id": "FLL9iqb7Ikf8",
        "outputId": "7be13f3f-f6c7-410d-e2a7-78f5dc82493f"
      },
      "execution_count": 13,
      "outputs": [
        {
          "output_type": "stream",
          "name": "stdout",
          "text": [
            "[03.11.25|18:41:29] Load weights from ./models/st_gcn.ntu-xview.pt.\n",
            "/usr/local/lib/python3.11/dist-packages/torchlight-1.0-py3.11.egg/torchlight/io.py:64: FutureWarning: You are using `torch.load` with `weights_only=False` (the current default value), which uses the default pickle module implicitly. It is possible to construct malicious pickle data which will execute arbitrary code during unpickling (See https://github.com/pytorch/pytorch/blob/main/SECURITY.md#untrusted-models for more details). In a future release, the default value for `weights_only` will be flipped to `True`. This limits the functions that could be executed during unpickling. Arbitrary objects will no longer be allowed to be loaded via this mode unless they are explicitly allowlisted by the user via `torch.serialization.add_safe_globals`. We recommend you start setting `weights_only=True` for any use case where you don't have full control of the loaded file. Please open an issue on GitHub for any issues related to this experimental feature.\n",
            "  weights = torch.load(weights_path)\n",
            "[03.11.25|18:41:29] Load weights [A].\n",
            "[03.11.25|18:41:29] Load weights [data_bn.weight].\n",
            "[03.11.25|18:41:29] Load weights [data_bn.bias].\n",
            "[03.11.25|18:41:29] Load weights [data_bn.running_mean].\n",
            "[03.11.25|18:41:29] Load weights [data_bn.running_var].\n",
            "[03.11.25|18:41:29] Load weights [data_bn.num_batches_tracked].\n",
            "[03.11.25|18:41:29] Load weights [st_gcn_networks.0.gcn.conv.weight].\n",
            "[03.11.25|18:41:29] Load weights [st_gcn_networks.0.gcn.conv.bias].\n",
            "[03.11.25|18:41:29] Load weights [st_gcn_networks.0.tcn.0.weight].\n",
            "[03.11.25|18:41:29] Load weights [st_gcn_networks.0.tcn.0.bias].\n",
            "[03.11.25|18:41:29] Load weights [st_gcn_networks.0.tcn.0.running_mean].\n",
            "[03.11.25|18:41:29] Load weights [st_gcn_networks.0.tcn.0.running_var].\n",
            "[03.11.25|18:41:29] Load weights [st_gcn_networks.0.tcn.0.num_batches_tracked].\n",
            "[03.11.25|18:41:29] Load weights [st_gcn_networks.0.tcn.2.weight].\n",
            "[03.11.25|18:41:29] Load weights [st_gcn_networks.0.tcn.2.bias].\n",
            "[03.11.25|18:41:29] Load weights [st_gcn_networks.0.tcn.3.weight].\n",
            "[03.11.25|18:41:29] Load weights [st_gcn_networks.0.tcn.3.bias].\n",
            "[03.11.25|18:41:29] Load weights [st_gcn_networks.0.tcn.3.running_mean].\n",
            "[03.11.25|18:41:29] Load weights [st_gcn_networks.0.tcn.3.running_var].\n",
            "[03.11.25|18:41:29] Load weights [st_gcn_networks.0.tcn.3.num_batches_tracked].\n",
            "[03.11.25|18:41:29] Load weights [st_gcn_networks.1.gcn.conv.weight].\n",
            "[03.11.25|18:41:29] Load weights [st_gcn_networks.1.gcn.conv.bias].\n",
            "[03.11.25|18:41:29] Load weights [st_gcn_networks.1.tcn.0.weight].\n",
            "[03.11.25|18:41:29] Load weights [st_gcn_networks.1.tcn.0.bias].\n",
            "[03.11.25|18:41:29] Load weights [st_gcn_networks.1.tcn.0.running_mean].\n",
            "[03.11.25|18:41:29] Load weights [st_gcn_networks.1.tcn.0.running_var].\n",
            "[03.11.25|18:41:29] Load weights [st_gcn_networks.1.tcn.0.num_batches_tracked].\n",
            "[03.11.25|18:41:29] Load weights [st_gcn_networks.1.tcn.2.weight].\n",
            "[03.11.25|18:41:29] Load weights [st_gcn_networks.1.tcn.2.bias].\n",
            "[03.11.25|18:41:29] Load weights [st_gcn_networks.1.tcn.3.weight].\n",
            "[03.11.25|18:41:29] Load weights [st_gcn_networks.1.tcn.3.bias].\n",
            "[03.11.25|18:41:29] Load weights [st_gcn_networks.1.tcn.3.running_mean].\n",
            "[03.11.25|18:41:29] Load weights [st_gcn_networks.1.tcn.3.running_var].\n",
            "[03.11.25|18:41:29] Load weights [st_gcn_networks.1.tcn.3.num_batches_tracked].\n",
            "[03.11.25|18:41:29] Load weights [st_gcn_networks.2.gcn.conv.weight].\n",
            "[03.11.25|18:41:29] Load weights [st_gcn_networks.2.gcn.conv.bias].\n",
            "[03.11.25|18:41:29] Load weights [st_gcn_networks.2.tcn.0.weight].\n",
            "[03.11.25|18:41:29] Load weights [st_gcn_networks.2.tcn.0.bias].\n",
            "[03.11.25|18:41:29] Load weights [st_gcn_networks.2.tcn.0.running_mean].\n",
            "[03.11.25|18:41:29] Load weights [st_gcn_networks.2.tcn.0.running_var].\n",
            "[03.11.25|18:41:29] Load weights [st_gcn_networks.2.tcn.0.num_batches_tracked].\n",
            "[03.11.25|18:41:29] Load weights [st_gcn_networks.2.tcn.2.weight].\n",
            "[03.11.25|18:41:29] Load weights [st_gcn_networks.2.tcn.2.bias].\n",
            "[03.11.25|18:41:29] Load weights [st_gcn_networks.2.tcn.3.weight].\n",
            "[03.11.25|18:41:29] Load weights [st_gcn_networks.2.tcn.3.bias].\n",
            "[03.11.25|18:41:29] Load weights [st_gcn_networks.2.tcn.3.running_mean].\n",
            "[03.11.25|18:41:29] Load weights [st_gcn_networks.2.tcn.3.running_var].\n",
            "[03.11.25|18:41:29] Load weights [st_gcn_networks.2.tcn.3.num_batches_tracked].\n",
            "[03.11.25|18:41:29] Load weights [st_gcn_networks.3.gcn.conv.weight].\n",
            "[03.11.25|18:41:29] Load weights [st_gcn_networks.3.gcn.conv.bias].\n",
            "[03.11.25|18:41:29] Load weights [st_gcn_networks.3.tcn.0.weight].\n",
            "[03.11.25|18:41:29] Load weights [st_gcn_networks.3.tcn.0.bias].\n",
            "[03.11.25|18:41:29] Load weights [st_gcn_networks.3.tcn.0.running_mean].\n",
            "[03.11.25|18:41:29] Load weights [st_gcn_networks.3.tcn.0.running_var].\n",
            "[03.11.25|18:41:29] Load weights [st_gcn_networks.3.tcn.0.num_batches_tracked].\n",
            "[03.11.25|18:41:29] Load weights [st_gcn_networks.3.tcn.2.weight].\n",
            "[03.11.25|18:41:29] Load weights [st_gcn_networks.3.tcn.2.bias].\n",
            "[03.11.25|18:41:29] Load weights [st_gcn_networks.3.tcn.3.weight].\n",
            "[03.11.25|18:41:29] Load weights [st_gcn_networks.3.tcn.3.bias].\n",
            "[03.11.25|18:41:29] Load weights [st_gcn_networks.3.tcn.3.running_mean].\n",
            "[03.11.25|18:41:29] Load weights [st_gcn_networks.3.tcn.3.running_var].\n",
            "[03.11.25|18:41:29] Load weights [st_gcn_networks.3.tcn.3.num_batches_tracked].\n",
            "[03.11.25|18:41:29] Load weights [st_gcn_networks.4.gcn.conv.weight].\n",
            "[03.11.25|18:41:29] Load weights [st_gcn_networks.4.gcn.conv.bias].\n",
            "[03.11.25|18:41:29] Load weights [st_gcn_networks.4.tcn.0.weight].\n",
            "[03.11.25|18:41:29] Load weights [st_gcn_networks.4.tcn.0.bias].\n",
            "[03.11.25|18:41:29] Load weights [st_gcn_networks.4.tcn.0.running_mean].\n",
            "[03.11.25|18:41:29] Load weights [st_gcn_networks.4.tcn.0.running_var].\n",
            "[03.11.25|18:41:29] Load weights [st_gcn_networks.4.tcn.0.num_batches_tracked].\n",
            "[03.11.25|18:41:29] Load weights [st_gcn_networks.4.tcn.2.weight].\n",
            "[03.11.25|18:41:29] Load weights [st_gcn_networks.4.tcn.2.bias].\n",
            "[03.11.25|18:41:29] Load weights [st_gcn_networks.4.tcn.3.weight].\n",
            "[03.11.25|18:41:29] Load weights [st_gcn_networks.4.tcn.3.bias].\n",
            "[03.11.25|18:41:29] Load weights [st_gcn_networks.4.tcn.3.running_mean].\n",
            "[03.11.25|18:41:29] Load weights [st_gcn_networks.4.tcn.3.running_var].\n",
            "[03.11.25|18:41:29] Load weights [st_gcn_networks.4.tcn.3.num_batches_tracked].\n",
            "[03.11.25|18:41:29] Load weights [st_gcn_networks.4.residual.0.weight].\n",
            "[03.11.25|18:41:29] Load weights [st_gcn_networks.4.residual.0.bias].\n",
            "[03.11.25|18:41:29] Load weights [st_gcn_networks.4.residual.1.weight].\n",
            "[03.11.25|18:41:29] Load weights [st_gcn_networks.4.residual.1.bias].\n",
            "[03.11.25|18:41:29] Load weights [st_gcn_networks.4.residual.1.running_mean].\n",
            "[03.11.25|18:41:29] Load weights [st_gcn_networks.4.residual.1.running_var].\n",
            "[03.11.25|18:41:29] Load weights [st_gcn_networks.4.residual.1.num_batches_tracked].\n",
            "[03.11.25|18:41:29] Load weights [st_gcn_networks.5.gcn.conv.weight].\n",
            "[03.11.25|18:41:29] Load weights [st_gcn_networks.5.gcn.conv.bias].\n",
            "[03.11.25|18:41:29] Load weights [st_gcn_networks.5.tcn.0.weight].\n",
            "[03.11.25|18:41:29] Load weights [st_gcn_networks.5.tcn.0.bias].\n",
            "[03.11.25|18:41:29] Load weights [st_gcn_networks.5.tcn.0.running_mean].\n",
            "[03.11.25|18:41:29] Load weights [st_gcn_networks.5.tcn.0.running_var].\n",
            "[03.11.25|18:41:29] Load weights [st_gcn_networks.5.tcn.0.num_batches_tracked].\n",
            "[03.11.25|18:41:29] Load weights [st_gcn_networks.5.tcn.2.weight].\n",
            "[03.11.25|18:41:29] Load weights [st_gcn_networks.5.tcn.2.bias].\n",
            "[03.11.25|18:41:29] Load weights [st_gcn_networks.5.tcn.3.weight].\n",
            "[03.11.25|18:41:29] Load weights [st_gcn_networks.5.tcn.3.bias].\n",
            "[03.11.25|18:41:29] Load weights [st_gcn_networks.5.tcn.3.running_mean].\n",
            "[03.11.25|18:41:29] Load weights [st_gcn_networks.5.tcn.3.running_var].\n",
            "[03.11.25|18:41:29] Load weights [st_gcn_networks.5.tcn.3.num_batches_tracked].\n",
            "[03.11.25|18:41:29] Load weights [st_gcn_networks.6.gcn.conv.weight].\n",
            "[03.11.25|18:41:29] Load weights [st_gcn_networks.6.gcn.conv.bias].\n",
            "[03.11.25|18:41:29] Load weights [st_gcn_networks.6.tcn.0.weight].\n",
            "[03.11.25|18:41:29] Load weights [st_gcn_networks.6.tcn.0.bias].\n",
            "[03.11.25|18:41:29] Load weights [st_gcn_networks.6.tcn.0.running_mean].\n",
            "[03.11.25|18:41:29] Load weights [st_gcn_networks.6.tcn.0.running_var].\n",
            "[03.11.25|18:41:29] Load weights [st_gcn_networks.6.tcn.0.num_batches_tracked].\n",
            "[03.11.25|18:41:29] Load weights [st_gcn_networks.6.tcn.2.weight].\n",
            "[03.11.25|18:41:29] Load weights [st_gcn_networks.6.tcn.2.bias].\n",
            "[03.11.25|18:41:29] Load weights [st_gcn_networks.6.tcn.3.weight].\n",
            "[03.11.25|18:41:29] Load weights [st_gcn_networks.6.tcn.3.bias].\n",
            "[03.11.25|18:41:29] Load weights [st_gcn_networks.6.tcn.3.running_mean].\n",
            "[03.11.25|18:41:29] Load weights [st_gcn_networks.6.tcn.3.running_var].\n",
            "[03.11.25|18:41:29] Load weights [st_gcn_networks.6.tcn.3.num_batches_tracked].\n",
            "[03.11.25|18:41:29] Load weights [st_gcn_networks.7.gcn.conv.weight].\n",
            "[03.11.25|18:41:29] Load weights [st_gcn_networks.7.gcn.conv.bias].\n",
            "[03.11.25|18:41:29] Load weights [st_gcn_networks.7.tcn.0.weight].\n",
            "[03.11.25|18:41:29] Load weights [st_gcn_networks.7.tcn.0.bias].\n",
            "[03.11.25|18:41:29] Load weights [st_gcn_networks.7.tcn.0.running_mean].\n",
            "[03.11.25|18:41:29] Load weights [st_gcn_networks.7.tcn.0.running_var].\n",
            "[03.11.25|18:41:29] Load weights [st_gcn_networks.7.tcn.0.num_batches_tracked].\n",
            "[03.11.25|18:41:29] Load weights [st_gcn_networks.7.tcn.2.weight].\n",
            "[03.11.25|18:41:29] Load weights [st_gcn_networks.7.tcn.2.bias].\n",
            "[03.11.25|18:41:29] Load weights [st_gcn_networks.7.tcn.3.weight].\n",
            "[03.11.25|18:41:29] Load weights [st_gcn_networks.7.tcn.3.bias].\n",
            "[03.11.25|18:41:29] Load weights [st_gcn_networks.7.tcn.3.running_mean].\n",
            "[03.11.25|18:41:29] Load weights [st_gcn_networks.7.tcn.3.running_var].\n",
            "[03.11.25|18:41:29] Load weights [st_gcn_networks.7.tcn.3.num_batches_tracked].\n",
            "[03.11.25|18:41:29] Load weights [st_gcn_networks.7.residual.0.weight].\n",
            "[03.11.25|18:41:29] Load weights [st_gcn_networks.7.residual.0.bias].\n",
            "[03.11.25|18:41:29] Load weights [st_gcn_networks.7.residual.1.weight].\n",
            "[03.11.25|18:41:29] Load weights [st_gcn_networks.7.residual.1.bias].\n",
            "[03.11.25|18:41:29] Load weights [st_gcn_networks.7.residual.1.running_mean].\n",
            "[03.11.25|18:41:29] Load weights [st_gcn_networks.7.residual.1.running_var].\n",
            "[03.11.25|18:41:29] Load weights [st_gcn_networks.7.residual.1.num_batches_tracked].\n",
            "[03.11.25|18:41:29] Load weights [st_gcn_networks.8.gcn.conv.weight].\n",
            "[03.11.25|18:41:29] Load weights [st_gcn_networks.8.gcn.conv.bias].\n",
            "[03.11.25|18:41:29] Load weights [st_gcn_networks.8.tcn.0.weight].\n",
            "[03.11.25|18:41:29] Load weights [st_gcn_networks.8.tcn.0.bias].\n",
            "[03.11.25|18:41:29] Load weights [st_gcn_networks.8.tcn.0.running_mean].\n",
            "[03.11.25|18:41:29] Load weights [st_gcn_networks.8.tcn.0.running_var].\n",
            "[03.11.25|18:41:29] Load weights [st_gcn_networks.8.tcn.0.num_batches_tracked].\n",
            "[03.11.25|18:41:29] Load weights [st_gcn_networks.8.tcn.2.weight].\n",
            "[03.11.25|18:41:29] Load weights [st_gcn_networks.8.tcn.2.bias].\n",
            "[03.11.25|18:41:29] Load weights [st_gcn_networks.8.tcn.3.weight].\n",
            "[03.11.25|18:41:29] Load weights [st_gcn_networks.8.tcn.3.bias].\n",
            "[03.11.25|18:41:29] Load weights [st_gcn_networks.8.tcn.3.running_mean].\n",
            "[03.11.25|18:41:29] Load weights [st_gcn_networks.8.tcn.3.running_var].\n",
            "[03.11.25|18:41:29] Load weights [st_gcn_networks.8.tcn.3.num_batches_tracked].\n",
            "[03.11.25|18:41:29] Load weights [st_gcn_networks.9.gcn.conv.weight].\n",
            "[03.11.25|18:41:29] Load weights [st_gcn_networks.9.gcn.conv.bias].\n",
            "[03.11.25|18:41:29] Load weights [st_gcn_networks.9.tcn.0.weight].\n",
            "[03.11.25|18:41:29] Load weights [st_gcn_networks.9.tcn.0.bias].\n",
            "[03.11.25|18:41:29] Load weights [st_gcn_networks.9.tcn.0.running_mean].\n",
            "[03.11.25|18:41:29] Load weights [st_gcn_networks.9.tcn.0.running_var].\n",
            "[03.11.25|18:41:29] Load weights [st_gcn_networks.9.tcn.0.num_batches_tracked].\n",
            "[03.11.25|18:41:29] Load weights [st_gcn_networks.9.tcn.2.weight].\n",
            "[03.11.25|18:41:29] Load weights [st_gcn_networks.9.tcn.2.bias].\n",
            "[03.11.25|18:41:29] Load weights [st_gcn_networks.9.tcn.3.weight].\n",
            "[03.11.25|18:41:29] Load weights [st_gcn_networks.9.tcn.3.bias].\n",
            "[03.11.25|18:41:29] Load weights [st_gcn_networks.9.tcn.3.running_mean].\n",
            "[03.11.25|18:41:29] Load weights [st_gcn_networks.9.tcn.3.running_var].\n",
            "[03.11.25|18:41:29] Load weights [st_gcn_networks.9.tcn.3.num_batches_tracked].\n",
            "[03.11.25|18:41:29] Load weights [edge_importance.0].\n",
            "[03.11.25|18:41:29] Load weights [edge_importance.1].\n",
            "[03.11.25|18:41:29] Load weights [edge_importance.2].\n",
            "[03.11.25|18:41:29] Load weights [edge_importance.3].\n",
            "[03.11.25|18:41:29] Load weights [edge_importance.4].\n",
            "[03.11.25|18:41:29] Load weights [edge_importance.5].\n",
            "[03.11.25|18:41:29] Load weights [edge_importance.6].\n",
            "[03.11.25|18:41:29] Load weights [edge_importance.7].\n",
            "[03.11.25|18:41:29] Load weights [edge_importance.8].\n",
            "[03.11.25|18:41:29] Load weights [edge_importance.9].\n",
            "[03.11.25|18:41:29] Load weights [fcn.weight].\n",
            "[03.11.25|18:41:29] Load weights [fcn.bias].\n",
            "/usr/local/lib/python3.11/dist-packages/torch/utils/data/dataloader.py:617: UserWarning: This DataLoader will create 4 worker processes in total. Our suggested max number of worker in current system is 2, which is smaller than what this DataLoader is going to create. Please be aware that excessive worker creation might get DataLoader running slow or even freeze, lower the worker number to avoid potential slowness/freeze if necessary.\n",
            "  warnings.warn(\n",
            "[03.11.25|18:41:34] Parameters:\n",
            "{'work_dir': './work_dir/tmp', 'config': 'config/st_gcn/ntu-xview/test.yaml', 'phase': 'test', 'save_result': False, 'start_epoch': 0, 'num_epoch': 80, 'use_gpu': True, 'device': 0, 'log_interval': 100, 'save_interval': 10, 'eval_interval': 5, 'save_log': True, 'print_log': True, 'pavi_log': False, 'feeder': 'feeder.feeder.Feeder', 'num_worker': 4, 'train_feeder_args': {'debug': False}, 'test_feeder_args': {'data_path': './data/NTU-RGB-D/xview/val_data.npy', 'label_path': './data/NTU-RGB-D/xview/val_label.pkl'}, 'batch_size': 256, 'test_batch_size': 64, 'debug': False, 'model': 'net.st_gcn.Model', 'model_args': {'in_channels': 3, 'num_class': 60, 'dropout': 0.5, 'edge_importance_weighting': True, 'graph_args': {'layout': 'ntu-rgb+d', 'strategy': 'spatial'}}, 'weights': './models/st_gcn.ntu-xview.pt', 'ignore_weights': [], 'show_topk': [1, 5], 'base_lr': 0.01, 'step': [], 'optimizer': 'SGD', 'nesterov': True, 'weight_decay': 0.0001}\n",
            "\n",
            "[03.11.25|18:41:34] Model:   net.st_gcn.Model.\n",
            "[03.11.25|18:41:34] Weights: ./models/st_gcn.ntu-xview.pt.\n",
            "[03.11.25|18:41:34] Evaluation Start:\n",
            "[03.11.25|18:46:04] \tmean_loss: 0.352344165933696\n",
            "[03.11.25|18:46:04] \tTop1: 88.76%\n",
            "[03.11.25|18:46:04] \tTop5: 98.83%\n",
            "[03.11.25|18:46:04] Done.\n",
            "\n"
          ]
        }
      ]
    },
    {
      "cell_type": "code",
      "source": [
        "!python main.py recognition -c config/st_gcn/ntu-xsub/test.yaml"
      ],
      "metadata": {
        "colab": {
          "base_uri": "https://localhost:8080/"
        },
        "id": "etcbSTLqJhhO",
        "outputId": "8e0c8c3c-7a23-45d0-ff1c-17f4e8276865"
      },
      "execution_count": 14,
      "outputs": [
        {
          "output_type": "stream",
          "name": "stdout",
          "text": [
            "[03.11.25|18:46:11] Load weights from ./models/st_gcn.ntu-xsub.pt.\n",
            "/usr/local/lib/python3.11/dist-packages/torchlight-1.0-py3.11.egg/torchlight/io.py:64: FutureWarning: You are using `torch.load` with `weights_only=False` (the current default value), which uses the default pickle module implicitly. It is possible to construct malicious pickle data which will execute arbitrary code during unpickling (See https://github.com/pytorch/pytorch/blob/main/SECURITY.md#untrusted-models for more details). In a future release, the default value for `weights_only` will be flipped to `True`. This limits the functions that could be executed during unpickling. Arbitrary objects will no longer be allowed to be loaded via this mode unless they are explicitly allowlisted by the user via `torch.serialization.add_safe_globals`. We recommend you start setting `weights_only=True` for any use case where you don't have full control of the loaded file. Please open an issue on GitHub for any issues related to this experimental feature.\n",
            "  weights = torch.load(weights_path)\n",
            "[03.11.25|18:46:11] Load weights [A].\n",
            "[03.11.25|18:46:11] Load weights [data_bn.weight].\n",
            "[03.11.25|18:46:11] Load weights [data_bn.bias].\n",
            "[03.11.25|18:46:11] Load weights [data_bn.running_mean].\n",
            "[03.11.25|18:46:11] Load weights [data_bn.running_var].\n",
            "[03.11.25|18:46:11] Load weights [data_bn.num_batches_tracked].\n",
            "[03.11.25|18:46:11] Load weights [st_gcn_networks.0.gcn.conv.weight].\n",
            "[03.11.25|18:46:11] Load weights [st_gcn_networks.0.gcn.conv.bias].\n",
            "[03.11.25|18:46:11] Load weights [st_gcn_networks.0.tcn.0.weight].\n",
            "[03.11.25|18:46:11] Load weights [st_gcn_networks.0.tcn.0.bias].\n",
            "[03.11.25|18:46:11] Load weights [st_gcn_networks.0.tcn.0.running_mean].\n",
            "[03.11.25|18:46:11] Load weights [st_gcn_networks.0.tcn.0.running_var].\n",
            "[03.11.25|18:46:11] Load weights [st_gcn_networks.0.tcn.0.num_batches_tracked].\n",
            "[03.11.25|18:46:11] Load weights [st_gcn_networks.0.tcn.2.weight].\n",
            "[03.11.25|18:46:11] Load weights [st_gcn_networks.0.tcn.2.bias].\n",
            "[03.11.25|18:46:11] Load weights [st_gcn_networks.0.tcn.3.weight].\n",
            "[03.11.25|18:46:11] Load weights [st_gcn_networks.0.tcn.3.bias].\n",
            "[03.11.25|18:46:11] Load weights [st_gcn_networks.0.tcn.3.running_mean].\n",
            "[03.11.25|18:46:11] Load weights [st_gcn_networks.0.tcn.3.running_var].\n",
            "[03.11.25|18:46:11] Load weights [st_gcn_networks.0.tcn.3.num_batches_tracked].\n",
            "[03.11.25|18:46:11] Load weights [st_gcn_networks.1.gcn.conv.weight].\n",
            "[03.11.25|18:46:11] Load weights [st_gcn_networks.1.gcn.conv.bias].\n",
            "[03.11.25|18:46:11] Load weights [st_gcn_networks.1.tcn.0.weight].\n",
            "[03.11.25|18:46:11] Load weights [st_gcn_networks.1.tcn.0.bias].\n",
            "[03.11.25|18:46:11] Load weights [st_gcn_networks.1.tcn.0.running_mean].\n",
            "[03.11.25|18:46:11] Load weights [st_gcn_networks.1.tcn.0.running_var].\n",
            "[03.11.25|18:46:11] Load weights [st_gcn_networks.1.tcn.0.num_batches_tracked].\n",
            "[03.11.25|18:46:11] Load weights [st_gcn_networks.1.tcn.2.weight].\n",
            "[03.11.25|18:46:11] Load weights [st_gcn_networks.1.tcn.2.bias].\n",
            "[03.11.25|18:46:11] Load weights [st_gcn_networks.1.tcn.3.weight].\n",
            "[03.11.25|18:46:11] Load weights [st_gcn_networks.1.tcn.3.bias].\n",
            "[03.11.25|18:46:11] Load weights [st_gcn_networks.1.tcn.3.running_mean].\n",
            "[03.11.25|18:46:11] Load weights [st_gcn_networks.1.tcn.3.running_var].\n",
            "[03.11.25|18:46:11] Load weights [st_gcn_networks.1.tcn.3.num_batches_tracked].\n",
            "[03.11.25|18:46:11] Load weights [st_gcn_networks.2.gcn.conv.weight].\n",
            "[03.11.25|18:46:11] Load weights [st_gcn_networks.2.gcn.conv.bias].\n",
            "[03.11.25|18:46:11] Load weights [st_gcn_networks.2.tcn.0.weight].\n",
            "[03.11.25|18:46:11] Load weights [st_gcn_networks.2.tcn.0.bias].\n",
            "[03.11.25|18:46:11] Load weights [st_gcn_networks.2.tcn.0.running_mean].\n",
            "[03.11.25|18:46:11] Load weights [st_gcn_networks.2.tcn.0.running_var].\n",
            "[03.11.25|18:46:11] Load weights [st_gcn_networks.2.tcn.0.num_batches_tracked].\n",
            "[03.11.25|18:46:11] Load weights [st_gcn_networks.2.tcn.2.weight].\n",
            "[03.11.25|18:46:11] Load weights [st_gcn_networks.2.tcn.2.bias].\n",
            "[03.11.25|18:46:11] Load weights [st_gcn_networks.2.tcn.3.weight].\n",
            "[03.11.25|18:46:11] Load weights [st_gcn_networks.2.tcn.3.bias].\n",
            "[03.11.25|18:46:11] Load weights [st_gcn_networks.2.tcn.3.running_mean].\n",
            "[03.11.25|18:46:11] Load weights [st_gcn_networks.2.tcn.3.running_var].\n",
            "[03.11.25|18:46:11] Load weights [st_gcn_networks.2.tcn.3.num_batches_tracked].\n",
            "[03.11.25|18:46:11] Load weights [st_gcn_networks.3.gcn.conv.weight].\n",
            "[03.11.25|18:46:11] Load weights [st_gcn_networks.3.gcn.conv.bias].\n",
            "[03.11.25|18:46:11] Load weights [st_gcn_networks.3.tcn.0.weight].\n",
            "[03.11.25|18:46:11] Load weights [st_gcn_networks.3.tcn.0.bias].\n",
            "[03.11.25|18:46:11] Load weights [st_gcn_networks.3.tcn.0.running_mean].\n",
            "[03.11.25|18:46:11] Load weights [st_gcn_networks.3.tcn.0.running_var].\n",
            "[03.11.25|18:46:11] Load weights [st_gcn_networks.3.tcn.0.num_batches_tracked].\n",
            "[03.11.25|18:46:11] Load weights [st_gcn_networks.3.tcn.2.weight].\n",
            "[03.11.25|18:46:11] Load weights [st_gcn_networks.3.tcn.2.bias].\n",
            "[03.11.25|18:46:11] Load weights [st_gcn_networks.3.tcn.3.weight].\n",
            "[03.11.25|18:46:11] Load weights [st_gcn_networks.3.tcn.3.bias].\n",
            "[03.11.25|18:46:11] Load weights [st_gcn_networks.3.tcn.3.running_mean].\n",
            "[03.11.25|18:46:11] Load weights [st_gcn_networks.3.tcn.3.running_var].\n",
            "[03.11.25|18:46:11] Load weights [st_gcn_networks.3.tcn.3.num_batches_tracked].\n",
            "[03.11.25|18:46:11] Load weights [st_gcn_networks.4.gcn.conv.weight].\n",
            "[03.11.25|18:46:11] Load weights [st_gcn_networks.4.gcn.conv.bias].\n",
            "[03.11.25|18:46:11] Load weights [st_gcn_networks.4.tcn.0.weight].\n",
            "[03.11.25|18:46:11] Load weights [st_gcn_networks.4.tcn.0.bias].\n",
            "[03.11.25|18:46:11] Load weights [st_gcn_networks.4.tcn.0.running_mean].\n",
            "[03.11.25|18:46:11] Load weights [st_gcn_networks.4.tcn.0.running_var].\n",
            "[03.11.25|18:46:11] Load weights [st_gcn_networks.4.tcn.0.num_batches_tracked].\n",
            "[03.11.25|18:46:11] Load weights [st_gcn_networks.4.tcn.2.weight].\n",
            "[03.11.25|18:46:11] Load weights [st_gcn_networks.4.tcn.2.bias].\n",
            "[03.11.25|18:46:11] Load weights [st_gcn_networks.4.tcn.3.weight].\n",
            "[03.11.25|18:46:11] Load weights [st_gcn_networks.4.tcn.3.bias].\n",
            "[03.11.25|18:46:11] Load weights [st_gcn_networks.4.tcn.3.running_mean].\n",
            "[03.11.25|18:46:11] Load weights [st_gcn_networks.4.tcn.3.running_var].\n",
            "[03.11.25|18:46:11] Load weights [st_gcn_networks.4.tcn.3.num_batches_tracked].\n",
            "[03.11.25|18:46:11] Load weights [st_gcn_networks.4.residual.0.weight].\n",
            "[03.11.25|18:46:11] Load weights [st_gcn_networks.4.residual.0.bias].\n",
            "[03.11.25|18:46:11] Load weights [st_gcn_networks.4.residual.1.weight].\n",
            "[03.11.25|18:46:11] Load weights [st_gcn_networks.4.residual.1.bias].\n",
            "[03.11.25|18:46:11] Load weights [st_gcn_networks.4.residual.1.running_mean].\n",
            "[03.11.25|18:46:11] Load weights [st_gcn_networks.4.residual.1.running_var].\n",
            "[03.11.25|18:46:11] Load weights [st_gcn_networks.4.residual.1.num_batches_tracked].\n",
            "[03.11.25|18:46:11] Load weights [st_gcn_networks.5.gcn.conv.weight].\n",
            "[03.11.25|18:46:11] Load weights [st_gcn_networks.5.gcn.conv.bias].\n",
            "[03.11.25|18:46:11] Load weights [st_gcn_networks.5.tcn.0.weight].\n",
            "[03.11.25|18:46:11] Load weights [st_gcn_networks.5.tcn.0.bias].\n",
            "[03.11.25|18:46:11] Load weights [st_gcn_networks.5.tcn.0.running_mean].\n",
            "[03.11.25|18:46:11] Load weights [st_gcn_networks.5.tcn.0.running_var].\n",
            "[03.11.25|18:46:11] Load weights [st_gcn_networks.5.tcn.0.num_batches_tracked].\n",
            "[03.11.25|18:46:11] Load weights [st_gcn_networks.5.tcn.2.weight].\n",
            "[03.11.25|18:46:11] Load weights [st_gcn_networks.5.tcn.2.bias].\n",
            "[03.11.25|18:46:11] Load weights [st_gcn_networks.5.tcn.3.weight].\n",
            "[03.11.25|18:46:11] Load weights [st_gcn_networks.5.tcn.3.bias].\n",
            "[03.11.25|18:46:11] Load weights [st_gcn_networks.5.tcn.3.running_mean].\n",
            "[03.11.25|18:46:11] Load weights [st_gcn_networks.5.tcn.3.running_var].\n",
            "[03.11.25|18:46:11] Load weights [st_gcn_networks.5.tcn.3.num_batches_tracked].\n",
            "[03.11.25|18:46:11] Load weights [st_gcn_networks.6.gcn.conv.weight].\n",
            "[03.11.25|18:46:11] Load weights [st_gcn_networks.6.gcn.conv.bias].\n",
            "[03.11.25|18:46:11] Load weights [st_gcn_networks.6.tcn.0.weight].\n",
            "[03.11.25|18:46:11] Load weights [st_gcn_networks.6.tcn.0.bias].\n",
            "[03.11.25|18:46:11] Load weights [st_gcn_networks.6.tcn.0.running_mean].\n",
            "[03.11.25|18:46:11] Load weights [st_gcn_networks.6.tcn.0.running_var].\n",
            "[03.11.25|18:46:11] Load weights [st_gcn_networks.6.tcn.0.num_batches_tracked].\n",
            "[03.11.25|18:46:11] Load weights [st_gcn_networks.6.tcn.2.weight].\n",
            "[03.11.25|18:46:11] Load weights [st_gcn_networks.6.tcn.2.bias].\n",
            "[03.11.25|18:46:11] Load weights [st_gcn_networks.6.tcn.3.weight].\n",
            "[03.11.25|18:46:11] Load weights [st_gcn_networks.6.tcn.3.bias].\n",
            "[03.11.25|18:46:11] Load weights [st_gcn_networks.6.tcn.3.running_mean].\n",
            "[03.11.25|18:46:11] Load weights [st_gcn_networks.6.tcn.3.running_var].\n",
            "[03.11.25|18:46:11] Load weights [st_gcn_networks.6.tcn.3.num_batches_tracked].\n",
            "[03.11.25|18:46:11] Load weights [st_gcn_networks.7.gcn.conv.weight].\n",
            "[03.11.25|18:46:11] Load weights [st_gcn_networks.7.gcn.conv.bias].\n",
            "[03.11.25|18:46:11] Load weights [st_gcn_networks.7.tcn.0.weight].\n",
            "[03.11.25|18:46:11] Load weights [st_gcn_networks.7.tcn.0.bias].\n",
            "[03.11.25|18:46:11] Load weights [st_gcn_networks.7.tcn.0.running_mean].\n",
            "[03.11.25|18:46:11] Load weights [st_gcn_networks.7.tcn.0.running_var].\n",
            "[03.11.25|18:46:11] Load weights [st_gcn_networks.7.tcn.0.num_batches_tracked].\n",
            "[03.11.25|18:46:11] Load weights [st_gcn_networks.7.tcn.2.weight].\n",
            "[03.11.25|18:46:11] Load weights [st_gcn_networks.7.tcn.2.bias].\n",
            "[03.11.25|18:46:11] Load weights [st_gcn_networks.7.tcn.3.weight].\n",
            "[03.11.25|18:46:11] Load weights [st_gcn_networks.7.tcn.3.bias].\n",
            "[03.11.25|18:46:11] Load weights [st_gcn_networks.7.tcn.3.running_mean].\n",
            "[03.11.25|18:46:11] Load weights [st_gcn_networks.7.tcn.3.running_var].\n",
            "[03.11.25|18:46:11] Load weights [st_gcn_networks.7.tcn.3.num_batches_tracked].\n",
            "[03.11.25|18:46:11] Load weights [st_gcn_networks.7.residual.0.weight].\n",
            "[03.11.25|18:46:11] Load weights [st_gcn_networks.7.residual.0.bias].\n",
            "[03.11.25|18:46:11] Load weights [st_gcn_networks.7.residual.1.weight].\n",
            "[03.11.25|18:46:11] Load weights [st_gcn_networks.7.residual.1.bias].\n",
            "[03.11.25|18:46:11] Load weights [st_gcn_networks.7.residual.1.running_mean].\n",
            "[03.11.25|18:46:11] Load weights [st_gcn_networks.7.residual.1.running_var].\n",
            "[03.11.25|18:46:11] Load weights [st_gcn_networks.7.residual.1.num_batches_tracked].\n",
            "[03.11.25|18:46:11] Load weights [st_gcn_networks.8.gcn.conv.weight].\n",
            "[03.11.25|18:46:11] Load weights [st_gcn_networks.8.gcn.conv.bias].\n",
            "[03.11.25|18:46:11] Load weights [st_gcn_networks.8.tcn.0.weight].\n",
            "[03.11.25|18:46:11] Load weights [st_gcn_networks.8.tcn.0.bias].\n",
            "[03.11.25|18:46:11] Load weights [st_gcn_networks.8.tcn.0.running_mean].\n",
            "[03.11.25|18:46:11] Load weights [st_gcn_networks.8.tcn.0.running_var].\n",
            "[03.11.25|18:46:11] Load weights [st_gcn_networks.8.tcn.0.num_batches_tracked].\n",
            "[03.11.25|18:46:11] Load weights [st_gcn_networks.8.tcn.2.weight].\n",
            "[03.11.25|18:46:11] Load weights [st_gcn_networks.8.tcn.2.bias].\n",
            "[03.11.25|18:46:11] Load weights [st_gcn_networks.8.tcn.3.weight].\n",
            "[03.11.25|18:46:11] Load weights [st_gcn_networks.8.tcn.3.bias].\n",
            "[03.11.25|18:46:11] Load weights [st_gcn_networks.8.tcn.3.running_mean].\n",
            "[03.11.25|18:46:11] Load weights [st_gcn_networks.8.tcn.3.running_var].\n",
            "[03.11.25|18:46:11] Load weights [st_gcn_networks.8.tcn.3.num_batches_tracked].\n",
            "[03.11.25|18:46:11] Load weights [st_gcn_networks.9.gcn.conv.weight].\n",
            "[03.11.25|18:46:11] Load weights [st_gcn_networks.9.gcn.conv.bias].\n",
            "[03.11.25|18:46:11] Load weights [st_gcn_networks.9.tcn.0.weight].\n",
            "[03.11.25|18:46:11] Load weights [st_gcn_networks.9.tcn.0.bias].\n",
            "[03.11.25|18:46:11] Load weights [st_gcn_networks.9.tcn.0.running_mean].\n",
            "[03.11.25|18:46:11] Load weights [st_gcn_networks.9.tcn.0.running_var].\n",
            "[03.11.25|18:46:11] Load weights [st_gcn_networks.9.tcn.0.num_batches_tracked].\n",
            "[03.11.25|18:46:11] Load weights [st_gcn_networks.9.tcn.2.weight].\n",
            "[03.11.25|18:46:11] Load weights [st_gcn_networks.9.tcn.2.bias].\n",
            "[03.11.25|18:46:11] Load weights [st_gcn_networks.9.tcn.3.weight].\n",
            "[03.11.25|18:46:11] Load weights [st_gcn_networks.9.tcn.3.bias].\n",
            "[03.11.25|18:46:11] Load weights [st_gcn_networks.9.tcn.3.running_mean].\n",
            "[03.11.25|18:46:11] Load weights [st_gcn_networks.9.tcn.3.running_var].\n",
            "[03.11.25|18:46:11] Load weights [st_gcn_networks.9.tcn.3.num_batches_tracked].\n",
            "[03.11.25|18:46:11] Load weights [edge_importance.0].\n",
            "[03.11.25|18:46:11] Load weights [edge_importance.1].\n",
            "[03.11.25|18:46:11] Load weights [edge_importance.2].\n",
            "[03.11.25|18:46:11] Load weights [edge_importance.3].\n",
            "[03.11.25|18:46:11] Load weights [edge_importance.4].\n",
            "[03.11.25|18:46:11] Load weights [edge_importance.5].\n",
            "[03.11.25|18:46:11] Load weights [edge_importance.6].\n",
            "[03.11.25|18:46:11] Load weights [edge_importance.7].\n",
            "[03.11.25|18:46:11] Load weights [edge_importance.8].\n",
            "[03.11.25|18:46:11] Load weights [edge_importance.9].\n",
            "[03.11.25|18:46:11] Load weights [fcn.weight].\n",
            "[03.11.25|18:46:11] Load weights [fcn.bias].\n",
            "/usr/local/lib/python3.11/dist-packages/torch/utils/data/dataloader.py:617: UserWarning: This DataLoader will create 4 worker processes in total. Our suggested max number of worker in current system is 2, which is smaller than what this DataLoader is going to create. Please be aware that excessive worker creation might get DataLoader running slow or even freeze, lower the worker number to avoid potential slowness/freeze if necessary.\n",
            "  warnings.warn(\n",
            "[03.11.25|18:46:12] Parameters:\n",
            "{'work_dir': './work_dir/tmp', 'config': 'config/st_gcn/ntu-xsub/test.yaml', 'phase': 'test', 'save_result': False, 'start_epoch': 0, 'num_epoch': 80, 'use_gpu': True, 'device': 0, 'log_interval': 100, 'save_interval': 10, 'eval_interval': 5, 'save_log': True, 'print_log': True, 'pavi_log': False, 'feeder': 'feeder.feeder.Feeder', 'num_worker': 4, 'train_feeder_args': {'debug': False}, 'test_feeder_args': {'data_path': './data/NTU-RGB-D/xsub/val_data.npy', 'label_path': './data/NTU-RGB-D/xsub/val_label.pkl'}, 'batch_size': 256, 'test_batch_size': 64, 'debug': False, 'model': 'net.st_gcn.Model', 'model_args': {'in_channels': 3, 'num_class': 60, 'dropout': 0.5, 'edge_importance_weighting': True, 'graph_args': {'layout': 'ntu-rgb+d', 'strategy': 'spatial'}}, 'weights': './models/st_gcn.ntu-xsub.pt', 'ignore_weights': [], 'show_topk': [1, 5], 'base_lr': 0.01, 'step': [], 'optimizer': 'SGD', 'nesterov': True, 'weight_decay': 0.0001}\n",
            "\n",
            "[03.11.25|18:46:12] Model:   net.st_gcn.Model.\n",
            "[03.11.25|18:46:12] Weights: ./models/st_gcn.ntu-xsub.pt.\n",
            "[03.11.25|18:46:12] Evaluation Start:\n",
            "[03.11.25|18:50:15] \tmean_loss: 0.6562359272394069\n",
            "[03.11.25|18:50:15] \tTop1: 81.57%\n",
            "[03.11.25|18:50:15] \tTop5: 96.85%\n",
            "[03.11.25|18:50:15] Done.\n",
            "\n"
          ]
        }
      ]
    }
  ]
}